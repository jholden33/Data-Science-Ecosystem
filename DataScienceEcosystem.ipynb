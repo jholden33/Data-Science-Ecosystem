{
 "cells": [
  {
   "cell_type": "markdown",
   "id": "c41b06ea-330e-433c-952d-4c04c183be38",
   "metadata": {},
   "source": [
    "# Data Science Tools and Ecosystem"
   ]
  },
  {
   "cell_type": "markdown",
   "id": "dffb5e9c-08d4-44ae-828d-14f099a5036f",
   "metadata": {},
   "source": [
    "In this notebook, Data Science Tools and Ecosystem are summarized."
   ]
  },
  {
   "cell_type": "markdown",
   "id": "d5808f3c-7338-49d7-8412-21cd30f12ef3",
   "metadata": {
    "jp-MarkdownHeadingCollapsed": true,
    "tags": []
   },
   "source": [
    "Objectives:\n",
    "- List popular languages for Data Science\n",
    "- List commonly used libraries for Data Science\n",
    "- Create a table of commonly used Data Science Tools\n",
    "- Provide examples of evaluating arithmetic experessions in Python"
   ]
  },
  {
   "cell_type": "markdown",
   "id": "d419389c-f48a-4cd6-9620-764ac961e9ba",
   "metadata": {
    "tags": []
   },
   "source": [
    "Some of the popular languages that Data Scientists use are:\n",
    "1. R\n",
    "2. Python\n",
    "3. SQL\n",
    "4. Scala\n",
    "5. Java"
   ]
  },
  {
   "cell_type": "markdown",
   "id": "5e2256b5-0baf-4604-98e0-1733407a9606",
   "metadata": {},
   "source": [
    "Some of the commonly used libraries used by Data Scientists include:\n",
    "1. Pandas\n",
    "2. NumPy\n",
    "3. Matplotlib\n",
    "4. Seaborn\n",
    "5. Scikit"
   ]
  },
  {
   "cell_type": "markdown",
   "id": "af4f00cc-7787-411a-8112-5abf884fea2a",
   "metadata": {},
   "source": [
    "Data Science Tools|\n",
    "-\n",
    "MySQL|\n",
    "GitHub|\n",
    "Watson Studio|"
   ]
  },
  {
   "cell_type": "markdown",
   "id": "90b41da9-12ff-4099-baf9-0999652de65b",
   "metadata": {},
   "source": [
    "### Below are a few examples of evaluating arithmetic expressions in Python."
   ]
  },
  {
   "cell_type": "markdown",
   "id": "996800f8-a9ab-477b-9eb0-20ca12d63389",
   "metadata": {},
   "source": [
    "This a simple arithmetic expression to mutiply then add integers"
   ]
  },
  {
   "cell_type": "code",
   "execution_count": 1,
   "id": "c4f97f75-2b81-472e-a8cf-68dd474bfe61",
   "metadata": {},
   "outputs": [
    {
     "data": {
      "text/plain": [
       "17"
      ]
     },
     "execution_count": 1,
     "metadata": {},
     "output_type": "execute_result"
    }
   ],
   "source": [
    "(3*4)+5"
   ]
  },
  {
   "cell_type": "markdown",
   "id": "01cf6732-11a8-4c5e-aecd-d434955315e5",
   "metadata": {},
   "source": [
    "This will convert 200 minutes to hours by diving by 60."
   ]
  },
  {
   "cell_type": "code",
   "execution_count": 2,
   "id": "36a739c6-0272-4922-a01c-76ea6e9055c8",
   "metadata": {},
   "outputs": [
    {
     "data": {
      "text/plain": [
       "3.3333333333333335"
      ]
     },
     "execution_count": 2,
     "metadata": {},
     "output_type": "execute_result"
    }
   ],
   "source": [
    "200/60"
   ]
  },
  {
   "cell_type": "markdown",
   "id": "a88f879d-6e27-4381-aebf-2aab80946d26",
   "metadata": {},
   "source": [
    "## Author\n",
    "Jaron Holden"
   ]
  }
 ],
 "metadata": {
  "kernelspec": {
   "display_name": "Python 3 (ipykernel)",
   "language": "python",
   "name": "python3"
  },
  "language_info": {
   "codemirror_mode": {
    "name": "ipython",
    "version": 3
   },
   "file_extension": ".py",
   "mimetype": "text/x-python",
   "name": "python",
   "nbconvert_exporter": "python",
   "pygments_lexer": "ipython3",
   "version": "3.10.9"
  }
 },
 "nbformat": 4,
 "nbformat_minor": 5
}
